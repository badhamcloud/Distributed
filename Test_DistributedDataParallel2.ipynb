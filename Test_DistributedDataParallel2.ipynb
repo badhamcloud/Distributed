{
 "cells": [
  {
   "cell_type": "code",
   "execution_count": 8,
   "metadata": {},
   "outputs": [
    {
     "name": "stdout",
     "output_type": "stream",
     "text": [
      "args =  Namespace(backend='gloo', batch=8, epochs=1, global_rank=1, isaml=False, issingle=False, local_rank=1, lr=0.001, size=2)\n",
      "starting distibuted training Namespace(backend='gloo', batch=8, epochs=1, global_rank=1, isaml=False, issingle=False, local_rank=1, lr=0.001, size=2)\n",
      "inside train_distrib rank 1 and world_size 2\n",
      "loading data\n",
      "Dataset MNIST\n",
      "    Number of datapoints: 60000\n",
      "    Root location: ./MNIST_data/1/\n",
      "    Split: Train\n",
      "60000 10000\n",
      "(784,) 5\n",
      "setting up\n",
      "MASTER_ADDR = localhost\n",
      "MASTER_PORT = 12355\n",
      "using device 1\n",
      "100%|██████████████████████████████████████| 3750/3750 [00:15<00:00, 247.37it/s]\n",
      "loss at epoch 0 is 0.010798513889312744\n",
      "shape = torch.Size([128, 784]), mean of values = -0.0026919872034341097\n",
      "shape = torch.Size([128]), mean of values = 0.021903974935412407\n",
      "shape = torch.Size([64, 128]), mean of values = 0.00897801574319601\n",
      "shape = torch.Size([64]), mean of values = 0.027450013905763626\n",
      "shape = torch.Size([10, 64]), mean of values = -0.028402984142303467\n",
      "shape = torch.Size([10]), mean of values = -0.028803611174225807\n",
      "CPU times: user 318 ms, sys: 94.7 ms, total: 413 ms\n",
      "Wall time: 28.4 s\n"
     ]
    }
   ],
   "source": [
    "%time !python DistributedDataParallel_script.py --local_rank 1 --global_rank 1 --size 2 --batch 8"
   ]
  },
  {
   "cell_type": "code",
   "execution_count": null,
   "metadata": {},
   "outputs": [],
   "source": []
  }
 ],
 "metadata": {
  "kernelspec": {
   "display_name": "Python 3.6 - AzureML",
   "language": "python",
   "name": "python3-azureml"
  },
  "language_info": {
   "codemirror_mode": {
    "name": "ipython",
    "version": 3
   },
   "file_extension": ".py",
   "mimetype": "text/x-python",
   "name": "python",
   "nbconvert_exporter": "python",
   "pygments_lexer": "ipython3",
   "version": "3.6.8"
  }
 },
 "nbformat": 4,
 "nbformat_minor": 2
}
