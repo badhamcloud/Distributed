{
 "cells": [
  {
   "cell_type": "code",
   "execution_count": 1,
   "metadata": {},
   "outputs": [
    {
     "name": "stdout",
     "output_type": "stream",
     "text": [
      "Dataset MNIST\n",
      "    Number of datapoints: 60000\n",
      "    Root location: ./MNIST_data\n",
      "    Split: Train\n",
      "(784,) 5\n",
      "args =  Namespace(batch=8, epochs=2, issingle=False, lr=0.001, rank=1, size=2)\n",
      "starting distibuted training Namespace(batch=8, epochs=2, issingle=False, lr=0.001, rank=1, size=2)\n",
      "inside train_distrib rank 1 and world_size 2\n",
      "setting up\n",
      "using device 1\n",
      "100%|██████████████████████████████████████| 3750/3750 [00:14<00:00, 252.75it/s]\n",
      "loss at epoch 0 is 0.010798513889312744\n",
      "shape = torch.Size([128, 784]), mean of values = -0.0026919872034341097\n",
      "shape = torch.Size([128]), mean of values = 0.021903974935412407\n",
      "shape = torch.Size([64, 128]), mean of values = 0.00897801574319601\n",
      "shape = torch.Size([64]), mean of values = 0.027450013905763626\n",
      "shape = torch.Size([10, 64]), mean of values = -0.028402984142303467\n",
      "shape = torch.Size([10]), mean of values = -0.028803611174225807\n",
      "100%|██████████████████████████████████████| 3750/3750 [00:14<00:00, 256.23it/s]\n",
      "loss at epoch 1 is 0.004622161388397217\n",
      "shape = torch.Size([128, 784]), mean of values = -0.004256885964423418\n",
      "shape = torch.Size([128]), mean of values = 0.022111745551228523\n",
      "shape = torch.Size([64, 128]), mean of values = 0.006849308498203754\n",
      "shape = torch.Size([64]), mean of values = 0.03356897830963135\n",
      "shape = torch.Size([10, 64]), mean of values = -0.03563050553202629\n",
      "shape = torch.Size([10]), mean of values = -0.03182206302881241\n",
      "CPU times: user 420 ms, sys: 142 ms, total: 562 ms\n",
      "Wall time: 35.4 s\n"
     ]
    }
   ],
   "source": [
    "%time !python DistributedDataParallel_script.py --rank 1 --size 2 --batch 8 --epochs 2"
   ]
  },
  {
   "cell_type": "code",
   "execution_count": null,
   "metadata": {},
   "outputs": [],
   "source": []
  }
 ],
 "metadata": {
  "kernelspec": {
   "display_name": "Python 3.6 - AzureML",
   "language": "python",
   "name": "python3-azureml"
  },
  "language_info": {
   "codemirror_mode": {
    "name": "ipython",
    "version": 3
   },
   "file_extension": ".py",
   "mimetype": "text/x-python",
   "name": "python",
   "nbconvert_exporter": "python",
   "pygments_lexer": "ipython3",
   "version": "3.6.8"
  }
 },
 "nbformat": 4,
 "nbformat_minor": 2
}
