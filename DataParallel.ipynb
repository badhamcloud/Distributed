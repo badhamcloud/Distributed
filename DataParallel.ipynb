{
 "cells": [
  {
   "cell_type": "code",
   "execution_count": 1,
   "metadata": {},
   "outputs": [],
   "source": [
    "import torch\n",
    "from torch.nn import DataParallel, Linear\n",
    "import torchvision\n",
    "from torch.utils.data.dataset import Dataset\n",
    "from torch.utils.data.dataloader import DataLoader\n",
    "import numpy as np\n",
    "import  matplotlib.pyplot as plt\n",
    "from matplotlib.pyplot import imshow\n",
    "%matplotlib inline\n"
   ]
  },
  {
   "cell_type": "markdown",
   "metadata": {},
   "source": [
    "### Convert Images to array"
   ]
  },
  {
   "cell_type": "code",
   "execution_count": 2,
   "metadata": {},
   "outputs": [],
   "source": [
    "class MyDataset(Dataset):\n",
    "    def __init__(self, mnist_dataset):\n",
    "        super(MyDataset,self).__init__()\n",
    "        self.mnist_dataset = mnist_dataset\n",
    "    def __getitem__(self, index):\n",
    "        item = self.mnist_dataset[index]\n",
    "        image = item[0]\n",
    "        label = item[1]\n",
    "        image_array = np.array(image,dtype = np.float32).reshape((-1))/255\n",
    "        return image_array, label\n",
    "    def __len__(self):\n",
    "        return len(self.mnist_dataset)"
   ]
  },
  {
   "cell_type": "markdown",
   "metadata": {},
   "source": [
    "### Load MNIST Data"
   ]
  },
  {
   "cell_type": "code",
   "execution_count": 11,
   "metadata": {},
   "outputs": [],
   "source": [
    "mnist_train, mnist_test, train_ds, test_ds = None,None,None,None\n",
    "def loaddata(rootdir = '../MNIST_data'):\n",
    "    global mnist_train, mnist_test, train_ds, test_ds\n",
    "    mnist_train = torchvision.datasets.MNIST(root = '../MNIST_data',train=True,download=True)\n",
    "    mnist_test = torchvision.datasets.MNIST(root = '../MNIST_data',train=False,download=True)\n",
    "\n",
    "    #A dataset returning pil image and label for each __getitem__ call\n",
    "    print(mnist_train)\n",
    "    train_ds = MyDataset(mnist_train)\n",
    "    test_ds = MyDataset(mnist_test)\n",
    "    print(len(train_ds), len(test_ds))\n",
    "    print(train_ds[0][0].shape,train_ds[0][1])\n",
    "    #train_ds[0][0][200:250],train_ds[0][1]"
   ]
  },
  {
   "cell_type": "code",
   "execution_count": 12,
   "metadata": {},
   "outputs": [
    {
     "name": "stdout",
     "output_type": "stream",
     "text": [
      "Dataset MNIST\n",
      "    Number of datapoints: 60000\n",
      "    Root location: ../MNIST_data\n",
      "    Split: Train\n",
      "60000 10000\n",
      "(784,) 5\n"
     ]
    },
    {
     "data": {
      "image/png": "[encoded data removed]",
      "text/plain": [
       "<Figure size 864x1440 with 7 Axes>"
      ]
     },
     "metadata": {
      "needs_background": "light"
     },
     "output_type": "display_data"
    }
   ],
   "source": [
    "loaddata()\n",
    "plt.figure(figsize = (12,20))\n",
    "count = 7\n",
    "for i in range(count):\n",
    "    plt.subplot(1,count,i+1)\n",
    "    index = np.random.randint(0,len(mnist_train),(1,))[0]\n",
    "    im_array = np.asarray(mnist_train[index][0])\n",
    "    label = mnist_train[index][1]\n",
    "    imshow(im_array,cmap='gray',)\n",
    "    plt.title(str(index) + ' label:'+str(label))"
   ]
  },
  {
   "cell_type": "markdown",
   "metadata": {},
   "source": [
    "## Args"
   ]
  },
  {
   "cell_type": "code",
   "execution_count": 156,
   "metadata": {},
   "outputs": [
    {
     "data": {
      "text/plain": [
       "Namespace(batch=16, epochs=1, lr=0.001)"
      ]
     },
     "execution_count": 156,
     "metadata": {},
     "output_type": "execute_result"
    }
   ],
   "source": [
    "import argparse\n",
    "args = argparse.Namespace(\n",
    "    batch = 16,\n",
    "    lr = 0.001,\n",
    "    epochs =1\n",
    ")\n",
    "args"
   ]
  },
  {
   "cell_type": "markdown",
   "metadata": {},
   "source": [
    "## Model"
   ]
  },
  {
   "cell_type": "code",
   "execution_count": 157,
   "metadata": {},
   "outputs": [],
   "source": [
    "class LinearModel(torch.nn.Module):\n",
    "    def __init__(self, input_size, output_size, verbose = False):\n",
    "        super(LinearModel,self).__init__()\n",
    "        self.fc1 = torch.nn.Linear(input_size,64)\n",
    "        self.relu = torch.nn.ReLU()\n",
    "        self.fc2 = torch.nn.Linear(64,output_size)\n",
    "        self.verbose = verbose\n",
    "    def forward(self, X):\n",
    "        \n",
    "        if self.verbose:\n",
    "            print('X shape = {}, current cuda device = {}' \\\n",
    "                  .format(X.shape,torch.cuda.current_device() if torch.cuda.is_available() else 'NAN'))\n",
    "        return self.fc2(self.relu(self.fc1(X)))"
   ]
  },
  {
   "cell_type": "code",
   "execution_count": 158,
   "metadata": {},
   "outputs": [
    {
     "name": "stdout",
     "output_type": "stream",
     "text": [
      "X shape = torch.Size([784]), current cuda device = 0\n"
     ]
    },
    {
     "data": {
      "text/plain": [
       "tensor([ 0.2608,  0.0098,  0.0033, -0.2133,  0.0187,  0.1146,  0.0105, -0.0431,\n",
       "         0.0566, -0.1077], grad_fn=<AddBackward0>)"
      ]
     },
     "execution_count": 158,
     "metadata": {},
     "output_type": "execute_result"
    }
   ],
   "source": [
    "m = LinearModel(784,10,True)\n",
    "m(torch.Tensor(train_ds[0][0]))"
   ]
  },
  {
   "cell_type": "markdown",
   "metadata": {},
   "source": [
    "## DataLoader"
   ]
  },
  {
   "cell_type": "code",
   "execution_count": 159,
   "metadata": {},
   "outputs": [],
   "source": [
    "dataloader = DataLoader(train_ds, batch_size=args.batch)"
   ]
  },
  {
   "cell_type": "code",
   "execution_count": 160,
   "metadata": {},
   "outputs": [
    {
     "name": "stdout",
     "output_type": "stream",
     "text": [
      "[tensor([[0., 0., 0.,  ..., 0., 0., 0.],\n",
      "        [0., 0., 0.,  ..., 0., 0., 0.],\n",
      "        [0., 0., 0.,  ..., 0., 0., 0.],\n",
      "        ...,\n",
      "        [0., 0., 0.,  ..., 0., 0., 0.],\n",
      "        [0., 0., 0.,  ..., 0., 0., 0.],\n",
      "        [0., 0., 0.,  ..., 0., 0., 0.]]), tensor([5, 0, 4, 1, 9, 2, 1, 3, 1, 4, 3, 5, 3, 6, 1, 7])]\n"
     ]
    }
   ],
   "source": [
    "#converts arrays into tensor and creates batches\n",
    "for data in dataloader:\n",
    "    print(data)\n",
    "    #print(model(data[0]))\n",
    "    break"
   ]
  },
  {
   "cell_type": "markdown",
   "metadata": {},
   "source": [
    "## Train"
   ]
  },
  {
   "cell_type": "code",
   "execution_count": 161,
   "metadata": {},
   "outputs": [],
   "source": [
    "from tqdm import tqdm\n",
    "def train(model, optimizer, dataloader, device):\n",
    "    model.train()\n",
    "    print('using device',device)\n",
    "    losses = []\n",
    "    for epoch in range(args.epochs):\n",
    "        for x,y in tqdm(dataloader, position=0):\n",
    "            optimizer.zero_grad()\n",
    "            x = x.to(device)\n",
    "            y = y.to(device)\n",
    "            \n",
    "            yhat = model(x)\n",
    "            \n",
    "            loss = torch.nn.CrossEntropyLoss()(yhat, y)\n",
    "\n",
    "            loss.backward()\n",
    "\n",
    "            optimizer.step()\n",
    "            losses.append(loss.item())\n",
    "            \n",
    "        print ('loss at epoch {} is {}'.format(epoch, losses[-1]))"
   ]
  },
  {
   "cell_type": "markdown",
   "metadata": {},
   "source": [
    "## Evaluate"
   ]
  },
  {
   "cell_type": "code",
   "execution_count": 162,
   "metadata": {},
   "outputs": [],
   "source": [
    "def evaluate(model, dataloader, device):\n",
    "    model.eval()\n",
    "    losses,preds,labels = [],np.empty((0,)),np.empty((0,))\n",
    "    for x,y in tqdm(dataloader, position=0):\n",
    "        x = x.to(device)\n",
    "        y = y.to(device)\n",
    "        yhat = model(x)\n",
    "        loss = torch.nn.CrossEntropyLoss()(yhat, y)\n",
    "        losses.append(loss.item())\n",
    "        \n",
    "        preds = np.hstack(  ( preds, np.argmax(yhat.detach().to('cpu').numpy(), axis = 1) .squeeze()) )\n",
    "        labels = np.hstack( (labels, y.to('cpu').numpy()) )\n",
    "        \n",
    "        #The losses are averaged across observations for each minibatch.\n",
    "    final_loss = sum(losses)/len(losses)\n",
    "    acc = accuracy(preds,labels)\n",
    "    print ('validation loss is {}'.format(final_loss))\n",
    "    print ('validation accuracy is {}'.format(acc))\n",
    "    \n",
    "\n",
    "def accuracy (preds, labels):\n",
    "    print(preds[:10], labels[:10])\n",
    "    return np.mean(preds == labels)"
   ]
  },
  {
   "cell_type": "markdown",
   "metadata": {},
   "source": [
    "## CPU"
   ]
  },
  {
   "cell_type": "code",
   "execution_count": 163,
   "metadata": {},
   "outputs": [],
   "source": [
    "model = LinearModel(784,10)\n",
    "dataloader = DataLoader(train_ds, batch_size=args.batch)\n",
    "optimizer = torch.optim.Adam(params = model.parameters(), lr=args.lr)"
   ]
  },
  {
   "cell_type": "code",
   "execution_count": null,
   "metadata": {},
   "outputs": [
    {
     "name": "stderr",
     "output_type": "stream",
     "text": [
      "  1%|          | 20/3750 [00:00<00:19, 192.02it/s]"
     ]
    },
    {
     "name": "stdout",
     "output_type": "stream",
     "text": [
      "using device cpu\n"
     ]
    },
    {
     "name": "stderr",
     "output_type": "stream",
     "text": [
      " 78%|███████▊  | 2942/3750 [00:15<00:04, 192.98it/s]"
     ]
    }
   ],
   "source": [
    "%%time\n",
    "cpu = torch.device('cpu')\n",
    "train(model,optimizer,dataloader, cpu)\n"
   ]
  },
  {
   "cell_type": "code",
   "execution_count": 152,
   "metadata": {},
   "outputs": [
    {
     "name": "stderr",
     "output_type": "stream",
     "text": [
      "100%|██████████| 625/625 [00:01<00:00, 531.74it/s]"
     ]
    },
    {
     "name": "stdout",
     "output_type": "stream",
     "text": [
      "[7. 2. 1. 0. 4. 1. 4. 9. 5. 9.] [7. 2. 1. 0. 4. 1. 4. 9. 5. 9.]\n",
      "validation loss is 0.19258624857664108\n",
      "validation accuracy is 0.9378\n"
     ]
    },
    {
     "name": "stderr",
     "output_type": "stream",
     "text": [
      "\n"
     ]
    }
   ],
   "source": [
    "eval_dataloader = dataloader = DataLoader(test_ds, batch_size=args.batch)\n",
    "evaluate(model,eval_dataloader, cpu)"
   ]
  },
  {
   "cell_type": "markdown",
   "metadata": {},
   "source": [
    "## GPU "
   ]
  },
  {
   "cell_type": "code",
   "execution_count": 122,
   "metadata": {},
   "outputs": [
    {
     "name": "stderr",
     "output_type": "stream",
     "text": [
      "  1%|          | 35/3750 [00:00<00:10, 345.35it/s]"
     ]
    },
    {
     "name": "stdout",
     "output_type": "stream",
     "text": [
      "using device cuda\n"
     ]
    },
    {
     "name": "stderr",
     "output_type": "stream",
     "text": [
      "100%|██████████| 3750/3750 [00:10<00:00, 352.44it/s]"
     ]
    },
    {
     "name": "stdout",
     "output_type": "stream",
     "text": [
      "loss at epoch 0 is 0.02700820565223694\n",
      "CPU times: user 10.6 s, sys: 120 ms, total: 10.8 s\n",
      "Wall time: 10.6 s\n"
     ]
    },
    {
     "name": "stderr",
     "output_type": "stream",
     "text": [
      "\n"
     ]
    }
   ],
   "source": [
    "gpu = torch.device('cuda')\n",
    "model = LinearModel(784,10, verbose=False)\n",
    "model = model.to(gpu)\n",
    "dataloader = DataLoader(train_ds,batch_size=args.batch)\n",
    "\n",
    "optimizer = torch.optim.Adam(params = model.parameters(), lr=args.lr)\n",
    "\n",
    "%time train(model, optimizer, dataloader, gpu)"
   ]
  },
  {
   "cell_type": "code",
   "execution_count": 123,
   "metadata": {},
   "outputs": [
    {
     "name": "stderr",
     "output_type": "stream",
     "text": [
      "100%|██████████| 625/625 [00:01<00:00, 520.87it/s]"
     ]
    },
    {
     "name": "stdout",
     "output_type": "stream",
     "text": [
      "[7. 2. 1. 0. 4. 1. 4. 9. 4. 9.] [7. 2. 1. 0. 4. 1. 4. 9. 5. 9.]\n",
      "validation loss is 0.19254192004203796\n",
      "validation accuracy is 0.9418\n",
      "CPU times: user 1.2 s, sys: 15.1 ms, total: 1.22 s\n",
      "Wall time: 1.2 s\n"
     ]
    },
    {
     "name": "stderr",
     "output_type": "stream",
     "text": [
      "\n"
     ]
    }
   ],
   "source": [
    "eval_dataloader = dataloader = DataLoader(test_ds, batch_size=args.batch)\n",
    "%time evaluate(model,eval_dataloader, gpu)"
   ]
  },
  {
   "cell_type": "markdown",
   "metadata": {},
   "source": [
    "#### Higher batch size"
   ]
  },
  {
   "cell_type": "code",
   "execution_count": 124,
   "metadata": {},
   "outputs": [
    {
     "name": "stderr",
     "output_type": "stream",
     "text": [
      "  2%|▏         | 15/938 [00:00<00:06, 148.92it/s]"
     ]
    },
    {
     "name": "stdout",
     "output_type": "stream",
     "text": [
      "using device cuda\n"
     ]
    },
    {
     "name": "stderr",
     "output_type": "stream",
     "text": [
      "100%|██████████| 938/938 [00:06<00:00, 152.38it/s]"
     ]
    },
    {
     "name": "stdout",
     "output_type": "stream",
     "text": [
      "loss at epoch 0 is 0.08182957768440247\n",
      "CPU times: user 6.13 s, sys: 137 ms, total: 6.26 s\n",
      "Wall time: 6.16 s\n"
     ]
    },
    {
     "name": "stderr",
     "output_type": "stream",
     "text": [
      "\n"
     ]
    }
   ],
   "source": [
    "\n",
    "dataloader = DataLoader(train_ds,batch_size=args.batch *4)\n",
    "optimizer = torch.optim.Adam(params = model.parameters(), lr=args.lr*4)\n",
    "%time train(model, optimizer, dataloader, gpu)"
   ]
  },
  {
   "cell_type": "code",
   "execution_count": 125,
   "metadata": {},
   "outputs": [
    {
     "name": "stderr",
     "output_type": "stream",
     "text": [
      "100%|██████████| 625/625 [00:01<00:00, 530.42it/s]"
     ]
    },
    {
     "name": "stdout",
     "output_type": "stream",
     "text": [
      "[7. 2. 1. 0. 4. 1. 4. 9. 5. 9.] [7. 2. 1. 0. 4. 1. 4. 9. 5. 9.]\n",
      "validation loss is 0.1630312618277967\n",
      "validation accuracy is 0.949\n",
      "CPU times: user 1.19 s, sys: 2.16 ms, total: 1.19 s\n",
      "Wall time: 1.18 s\n"
     ]
    },
    {
     "name": "stderr",
     "output_type": "stream",
     "text": [
      "\n"
     ]
    }
   ],
   "source": [
    "eval_dataloader = dataloader = DataLoader(test_ds, batch_size=args.batch)\n",
    "%time evaluate(model,eval_dataloader, gpu)"
   ]
  },
  {
   "cell_type": "markdown",
   "metadata": {},
   "source": [
    "## DataParallel\n",
    "single process, multiple GPUs\n",
    "\n",
    "    This container parallelizes the application of the given :attr:`module` by\n",
    "    splitting the input across the specified devices by chunking in the batch\n",
    "    dimension (other objects will be copied once per device). In the forward\n",
    "    pass, the module is replicated on each device, and each replica handles a\n",
    "    portion of the input. During the backwards pass, gradients from each replica\n",
    "    are summed into the original module.\n",
    "\n",
    "Source: https://pytorch.org/docs/stable/_modules/torch/nn/parallel/data_parallel.html\n",
    "\n",
    "The batch size should be larger than the number of GPUs used.\n",
    "\n",
    "\n",
    "1. This is not very optimal as every forward run transfers the model and data portion between GPUs. \n",
    "1. Unless the processing in the module takes significant amount of time, this is not very useful.\n",
    "1. This is even slower than single GPU for simpler neural nets.\n",
    "\n",
    "        inputs, kwargs = self.scatter(inputs, kwargs, self.device_ids)\n",
    "        if len(self.device_ids) == 1:\n",
    "            return self.module(*inputs[0], **kwargs[0])\n",
    "        replicas = self.replicate(self.module, self.device_ids[:len(inputs)])\n",
    "        outputs = self.parallel_apply(replicas, inputs, kwargs)\n",
    "        return self.gather(outputs, self.output_device)\n",
    "\n",
    "Issues : https://medium.com/huggingface/training-larger-batches-practical-tips-on-1-gpu-multi-gpu-distributed-setups-ec88c3e51255"
   ]
  },
  {
   "cell_type": "code",
   "execution_count": 126,
   "metadata": {},
   "outputs": [
    {
     "name": "stderr",
     "output_type": "stream",
     "text": [
      "  0%|          | 17/3750 [00:00<00:22, 166.83it/s]"
     ]
    },
    {
     "name": "stdout",
     "output_type": "stream",
     "text": [
      "using device cuda\n"
     ]
    },
    {
     "name": "stderr",
     "output_type": "stream",
     "text": [
      "100%|██████████| 3750/3750 [00:22<00:00, 167.66it/s]"
     ]
    },
    {
     "name": "stdout",
     "output_type": "stream",
     "text": [
      "loss at epoch 0 is 0.018921375274658203\n",
      "CPU times: user 26.3 s, sys: 2.61 s, total: 28.9 s\n",
      "Wall time: 22.4 s\n"
     ]
    },
    {
     "name": "stderr",
     "output_type": "stream",
     "text": [
      "\n"
     ]
    }
   ],
   "source": [
    "model = LinearModel(784,10,verbose = False).to(gpu)\n",
    "model = torch.nn.DataParallel(model)\n",
    "\n",
    "#Each batch is split into number of gpus and data is scattered. Use verbose = True to verify parallel processing\n",
    "dataloader = DataLoader(train_ds,batch_size=args.batch)\n",
    "optimizer = torch.optim.Adam(params = model.parameters(), lr=args.lr)\n",
    "\n",
    "%time train(model, optimizer, dataloader, gpu)"
   ]
  },
  {
   "cell_type": "code",
   "execution_count": 127,
   "metadata": {},
   "outputs": [
    {
     "name": "stderr",
     "output_type": "stream",
     "text": [
      "100%|██████████| 625/625 [00:02<00:00, 241.89it/s]"
     ]
    },
    {
     "name": "stdout",
     "output_type": "stream",
     "text": [
      "[7. 2. 1. 0. 4. 1. 4. 9. 6. 9.] [7. 2. 1. 0. 4. 1. 4. 9. 5. 9.]\n",
      "validation loss is 0.18366036267280578\n",
      "validation accuracy is 0.9409\n",
      "CPU times: user 2.89 s, sys: 344 ms, total: 3.23 s\n",
      "Wall time: 2.59 s\n"
     ]
    },
    {
     "name": "stderr",
     "output_type": "stream",
     "text": [
      "\n"
     ]
    }
   ],
   "source": [
    "eval_dataloader = dataloader = DataLoader(test_ds, batch_size=args.batch)\n",
    "%time evaluate(model,eval_dataloader, gpu)"
   ]
  },
  {
   "cell_type": "markdown",
   "metadata": {},
   "source": [
    "#### Using Higher batch size\n",
    "Even for higher batch sizes, it's still slower than single GPU"
   ]
  },
  {
   "cell_type": "code",
   "execution_count": 128,
   "metadata": {},
   "outputs": [
    {
     "name": "stderr",
     "output_type": "stream",
     "text": [
      "  1%|          | 11/938 [00:00<00:09, 100.59it/s]"
     ]
    },
    {
     "name": "stdout",
     "output_type": "stream",
     "text": [
      "using device cuda\n"
     ]
    },
    {
     "name": "stderr",
     "output_type": "stream",
     "text": [
      "100%|██████████| 938/938 [00:09<00:00, 102.56it/s]"
     ]
    },
    {
     "name": "stdout",
     "output_type": "stream",
     "text": [
      "loss at epoch 0 is 0.05216124653816223\n",
      "CPU times: user 10 s, sys: 813 ms, total: 10.9 s\n",
      "Wall time: 9.15 s\n"
     ]
    },
    {
     "name": "stderr",
     "output_type": "stream",
     "text": [
      "\n"
     ]
    }
   ],
   "source": [
    "#Batch size can be increased to take advantage of the parallel processing\n",
    "dataloader = DataLoader(train_ds,batch_size=args.batch *4)\n",
    "#increase the lr for high batch size. (Provide proof for this)\n",
    "optimizer = torch.optim.Adam(params = model.parameters(), lr=args.lr * 4)\n",
    "\n",
    "%time train(model, optimizer, dataloader, gpu)"
   ]
  }
 ],
 "metadata": {
  "kernelspec": {
   "display_name": "Python 3.6 - AzureML",
   "language": "python",
   "name": "python3-azureml"
  },
  "language_info": {
   "codemirror_mode": {
    "name": "ipython",
    "version": 3
   },
   "file_extension": ".py",
   "mimetype": "text/x-python",
   "name": "python",
   "nbconvert_exporter": "python",
   "pygments_lexer": "ipython3",
   "version": "3.6.8"
  }
 },
 "nbformat": 4,
 "nbformat_minor": 2
}
