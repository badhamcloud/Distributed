{
 "cells": [
  {
   "cell_type": "code",
   "execution_count": 20,
   "metadata": {},
   "outputs": [
    {
     "name": "stdout",
     "output_type": "stream",
     "text": [
      "[NbConvertApp] Converting notebook DistributedDataParallel_script.ipynb to script\n",
      "[NbConvertApp] Writing 11542 bytes to DistributedDataParallel_script.py\n"
     ]
    }
   ],
   "source": [
    "!jupyter nbconvert --to script DistributedDataParallel_script.ipynb\n",
    "#!python DistributedDataParallel_script.py --issingle\n",
    "!rm -rf MNIST_data"
   ]
  },
  {
   "cell_type": "markdown",
   "metadata": {},
   "source": [
    "## Initialize Azure ML"
   ]
  },
  {
   "cell_type": "code",
   "execution_count": 21,
   "metadata": {},
   "outputs": [],
   "source": [
    "from azureml.core import Workspace, Experiment, Run\n",
    "ws = Workspace(subscription_id='42ae47bd-b19b-42c1-b0b9-19fd5be9d51b',\n",
    "              resource_group='bert-base',\n",
    "              workspace_name='SubstrateIntelligenceNLR-WS2')\n",
    "\n",
    "experiment = Experiment(ws, 'MNIST-singlegpu')\n",
    "\n",
    "from azureml.core import ComputeTarget\n",
    "compute_target = ComputeTarget(ws, 'nc24sv3')"
   ]
  },
  {
   "cell_type": "markdown",
   "metadata": {},
   "source": [
    "### Download and upload data "
   ]
  },
  {
   "cell_type": "code",
   "execution_count": 22,
   "metadata": {},
   "outputs": [
    {
     "name": "stdout",
     "output_type": "stream",
     "text": [
      "loading data to ../MNIST_data\n",
      "Dataset MNIST\n",
      "    Number of datapoints: 60000\n",
      "    Root location: ../MNIST_data\n",
      "    Split: Train\n",
      "60000 10000\n",
      "(784,) 5\n",
      "Uploading an estimated of 6 files\n",
      "Target already exists. Skipping upload for MNIST_data/MNIST/raw/train-images-idx3-ubyte\n",
      "Target already exists. Skipping upload for MNIST_data/MNIST/raw/t10k-images-idx3-ubyte\n",
      "Target already exists. Skipping upload for MNIST_data/MNIST/raw/t10k-labels-idx1-ubyte\n",
      "Target already exists. Skipping upload for MNIST_data/MNIST/raw/train-labels-idx1-ubyte\n",
      "Target already exists. Skipping upload for MNIST_data/MNIST/processed/test.pt\n",
      "Target already exists. Skipping upload for MNIST_data/MNIST/processed/training.pt\n",
      "Uploaded 0 files\n"
     ]
    },
    {
     "data": {
      "text/plain": [
       "$AZUREML_DATAREFERENCE_122f661fb50c4b948b286bd8d8cfb8a1"
      ]
     },
     "execution_count": 22,
     "metadata": {},
     "output_type": "execute_result"
    }
   ],
   "source": [
    "from  DistributedDataParallel_script import loaddata\n",
    "\n",
    "datadir = '../MNIST_data'\n",
    "blobpath = 'MNIST_data/'\n",
    "loaddata(datadir)\n",
    "\n",
    "ds = ws.get_default_datastore()\n",
    "\n",
    "\n",
    "ds.upload(datadir, target_path=blobpath)"
   ]
  },
  {
   "cell_type": "markdown",
   "metadata": {},
   "source": [
    "### Single GPU"
   ]
  },
  {
   "cell_type": "code",
   "execution_count": 23,
   "metadata": {},
   "outputs": [
    {
     "name": "stderr",
     "output_type": "stream",
     "text": [
      "WARNING - framework_version is not specified, defaulting to version 1.1.\n"
     ]
    }
   ],
   "source": [
    "from azureml.train.dnn import PyTorch\n",
    "estimator = PyTorch(source_directory = '.',\n",
    "                    pip_packages = ['tqdm'],\n",
    "                    compute_target = compute_target,\n",
    "                    entry_script = 'DistributedDataParallel_script.py',\n",
    "                    script_params = {\n",
    "                       '--issingle':\"\",\n",
    "                       '--datapath':ds.path(blobpath).as_mount()\n",
    "                    },\n",
    "                    use_gpu=True,\n",
    "                   )\n",
    "\n",
    "run = experiment.submit(estimator)"
   ]
  },
  {
   "cell_type": "code",
   "execution_count": 24,
   "metadata": {},
   "outputs": [
    {
     "data": {
      "application/vnd.jupyter.widget-view+json": {
       "model_id": "6713f00d415c4f2abe3bc187ef14c4fc",
       "version_major": 2,
       "version_minor": 0
      },
      "text/plain": [
       "_UserRunWidget(widget_settings={'childWidgetDisplay': 'popup', 'send_telemetry': False, 'log_level': 'INFO', '…"
      ]
     },
     "metadata": {},
     "output_type": "display_data"
    }
   ],
   "source": [
    "from azureml.widgets import RunDetails\n",
    "RunDetails(run).show()"
   ]
  },
  {
   "cell_type": "markdown",
   "metadata": {},
   "source": [
    "### Distributed data parallel AML job - Not working\n",
    "2 nodes 4 GPUS\n",
    "Follow this\n",
    "https://github.com/microsoft/AzureML-BERT/blob/master/pretrain/PyTorch/azureml_adapter.py"
   ]
  },
  {
   "cell_type": "code",
   "execution_count": 25,
   "metadata": {},
   "outputs": [
    {
     "name": "stderr",
     "output_type": "stream",
     "text": [
      "WARNING - framework_version is not specified, defaulting to version 1.1.\n"
     ]
    }
   ],
   "source": [
    "from azureml.train.dnn import PyTorch\n",
    "from azureml.core.runconfig import MpiConfiguration\n",
    "\n",
    "mpi = MpiConfiguration()\n",
    "mpi.process_count_per_node = 4\n",
    "\n",
    "estimator_distrib = PyTorch(source_directory = '.',\n",
    "                    pip_packages = ['tqdm'],\n",
    "                   compute_target = compute_target,\n",
    "                   entry_script = 'DistributedDataParallel_script.py',\n",
    "                   script_params = {'--isaml':\"\", '--backend' : 'nccl', '--datapath':ds.path(blobpath).as_mount()},\n",
    "                   use_gpu=True,\n",
    "                   distributed_training = mpi,\n",
    "                    node_count = 2\n",
    "                   )\n"
   ]
  },
  {
   "cell_type": "code",
   "execution_count": 26,
   "metadata": {
    "scrolled": true
   },
   "outputs": [
    {
     "data": {
      "application/vnd.jupyter.widget-view+json": {
       "model_id": "d5c9b7cf6a7946e3a99fa24c9ade6f20",
       "version_major": 2,
       "version_minor": 0
      },
      "text/plain": [
       "_UserRunWidget(widget_settings={'childWidgetDisplay': 'popup', 'send_telemetry': False, 'log_level': 'INFO', '…"
      ]
     },
     "metadata": {},
     "output_type": "display_data"
    }
   ],
   "source": [
    "run_distrib = experiment.submit(estimator_distrib)\n",
    "RunDetails(run_distrib).show()"
   ]
  },
  {
   "cell_type": "code",
   "execution_count": null,
   "metadata": {},
   "outputs": [],
   "source": []
  }
 ],
 "metadata": {
  "kernelspec": {
   "display_name": "Python 3.6 - AzureML",
   "language": "python",
   "name": "python3-azureml"
  },
  "language_info": {
   "codemirror_mode": {
    "name": "ipython",
    "version": 3
   },
   "file_extension": ".py",
   "mimetype": "text/x-python",
   "name": "python",
   "nbconvert_exporter": "python",
   "pygments_lexer": "ipython3",
   "version": "3.6.8"
  }
 },
 "nbformat": 4,
 "nbformat_minor": 2
}
