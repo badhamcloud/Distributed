{
 "cells": [
  {
   "cell_type": "code",
   "execution_count": 89,
   "metadata": {},
   "outputs": [
    {
     "name": "stdout",
     "output_type": "stream",
     "text": [
      "[NbConvertApp] Converting notebook DistributedDataParallel_script.ipynb to script\n",
      "[NbConvertApp] Writing 11101 bytes to DistributedDataParallel_script.py\n"
     ]
    }
   ],
   "source": [
    "!jupyter nbconvert --to script DistributedDataParallel_script.ipynb\n",
    "#!python DistributedDataParallel_script.py --issingle\n",
    "!rm -rf MNIST_data"
   ]
  },
  {
   "cell_type": "markdown",
   "metadata": {},
   "source": [
    "## Initialize Azure ML"
   ]
  },
  {
   "cell_type": "code",
   "execution_count": 86,
   "metadata": {},
   "outputs": [],
   "source": [
    "from azureml.core import Workspace, Experiment, Run\n",
    "ws = Workspace(subscription_id='<YOUR SUBSCRIPTION ID>',\n",
    "              resource_group='<Resource grp>',\n",
    "              workspace_name='<Workspace name>')\n",
    "\n",
    "experiment = Experiment(ws, 'MNIST-singlegpu')\n",
    "\n",
    "from azureml.core import ComputeTarget\n",
    "compute_target = ComputeTarget(ws, 'nc24sv3')"
   ]
  },
  {
   "cell_type": "markdown",
   "metadata": {},
   "source": [
    "### Single GPU"
   ]
  },
  {
   "cell_type": "code",
   "execution_count": 68,
   "metadata": {},
   "outputs": [
    {
     "name": "stderr",
     "output_type": "stream",
     "text": [
      "WARNING - framework_version is not specified, defaulting to version 1.1.\n"
     ]
    }
   ],
   "source": [
    "from azureml.train.dnn import PyTorch\n",
    "estimator = PyTorch(source_directory = '.',\n",
    "                    pip_packages = ['tqdm'],\n",
    "                    compute_target = compute_target,\n",
    "                    entry_script = 'DistributedDataParallel_script.py',\n",
    "                    script_params = {\n",
    "                       '--issingle':\"\"\n",
    "                    },\n",
    "                    use_gpu=True,\n",
    "                   )\n",
    "\n",
    "run = experiment.submit(estimator)"
   ]
  },
  {
   "cell_type": "code",
   "execution_count": 69,
   "metadata": {},
   "outputs": [
    {
     "data": {
      "application/vnd.jupyter.widget-view+json": {
       "model_id": "9e424eca0dc74459bb3c5992f7a09a7e",
       "version_major": 2,
       "version_minor": 0
      },
      "text/plain": [
       "_UserRunWidget(widget_settings={'childWidgetDisplay': 'popup', 'send_telemetry': False, 'log_level': 'INFO', '…"
      ]
     },
     "metadata": {},
     "output_type": "display_data"
    }
   ],
   "source": [
    "from azureml.widgets import RunDetails\n",
    "RunDetails(run).show()"
   ]
  },
  {
   "cell_type": "markdown",
   "metadata": {},
   "source": [
    "### Distributed data parallel AML job - Not working\n",
    "2 nodes 4 GPUS\n",
    "Follow this\n",
    "https://github.com/microsoft/AzureML-BERT/blob/master/pretrain/PyTorch/azureml_adapter.py"
   ]
  },
  {
   "cell_type": "code",
   "execution_count": 90,
   "metadata": {},
   "outputs": [
    {
     "name": "stderr",
     "output_type": "stream",
     "text": [
      "WARNING - framework_version is not specified, defaulting to version 1.1.\n"
     ]
    }
   ],
   "source": [
    "from azureml.train.dnn import PyTorch\n",
    "from azureml.core.runconfig import MpiConfiguration\n",
    "\n",
    "mpi = MpiConfiguration()\n",
    "mpi.process_count_per_node = 4\n",
    "\n",
    "estimator_distrib = PyTorch(source_directory = '.',\n",
    "                    pip_packages = ['tqdm'],\n",
    "                   compute_target = compute_target,\n",
    "                   entry_script = 'DistributedDataParallel_script.py',\n",
    "                   script_params = {'--isaml':\"\", '--backend' : 'nccl'},\n",
    "                   use_gpu=True,\n",
    "                   distributed_training = mpi,\n",
    "                    node_count = 2\n",
    "                   )\n"
   ]
  },
  {
   "cell_type": "code",
   "execution_count": 91,
   "metadata": {
    "scrolled": true
   },
   "outputs": [
    {
     "data": {
      "application/vnd.jupyter.widget-view+json": {
       "model_id": "5c8f9b1df06a46d68cd8079005b9a8f3",
       "version_major": 2,
       "version_minor": 0
      },
      "text/plain": [
       "_UserRunWidget(widget_settings={'childWidgetDisplay': 'popup', 'send_telemetry': False, 'log_level': 'INFO', '…"
      ]
     },
     "metadata": {},
     "output_type": "display_data"
    }
   ],
   "source": [
    "run_distrib = experiment.submit(estimator_distrib)\n",
    "RunDetails(run_distrib).show()"
   ]
  },
  {
   "cell_type": "code",
   "execution_count": null,
   "metadata": {},
   "outputs": [],
   "source": []
  }
 ],
 "metadata": {
  "kernelspec": {
   "display_name": "Python 3.6 - AzureML",
   "language": "python",
   "name": "python3-azureml"
  },
  "language_info": {
   "codemirror_mode": {
    "name": "ipython",
    "version": 3
   },
   "file_extension": ".py",
   "mimetype": "text/x-python",
   "name": "python",
   "nbconvert_exporter": "python",
   "pygments_lexer": "ipython3",
   "version": "3.6.8"
  }
 },
 "nbformat": 4,
 "nbformat_minor": 2
}
