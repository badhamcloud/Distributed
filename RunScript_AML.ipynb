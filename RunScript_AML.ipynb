{
 "cells": [
  {
   "cell_type": "code",
   "execution_count": 30,
   "metadata": {},
   "outputs": [
    {
     "name": "stdout",
     "output_type": "stream",
     "text": [
      "[NbConvertApp] Converting notebook DistributedDataParallel_script.ipynb to script\n",
      "[NbConvertApp] Writing 7842 bytes to DistributedDataParallel_script.py\n",
      "Dataset MNIST\n",
      "    Number of datapoints: 60000\n",
      "    Root location: ./MNIST_data\n",
      "    Split: Train\n",
      "(784,) 5\n",
      "args =  Namespace(batch=16, epochs=1, issingle=True, lr=0.001, rank=None, size=None)\n",
      "Single GPU training\n",
      "using device cuda\n",
      "100%|██████████████████████████████████████| 3750/3750 [00:12<00:00, 296.45it/s]\n",
      "loss at epoch 0 is 0.007238924503326416\n",
      "shape = torch.Size([128, 784]), mean of values = -0.002532262122258544\n",
      "shape = torch.Size([128]), mean of values = 0.021755723282694817\n",
      "shape = torch.Size([64, 128]), mean of values = 0.009082158096134663\n",
      "shape = torch.Size([64]), mean of values = 0.030485646799206734\n",
      "shape = torch.Size([10, 64]), mean of values = -0.027527540922164917\n",
      "shape = torch.Size([10]), mean of values = 0.003641219809651375\n"
     ]
    }
   ],
   "source": [
    "!jupyter nbconvert --to script DistributedDataParallel_script.ipynb\n",
    "!python DistributedDataParallel_script.py --issingle\n",
    "!rm -rf MNIST_data"
   ]
  },
  {
   "cell_type": "markdown",
   "metadata": {},
   "source": [
    "## Initialize Azure ML"
   ]
  },
  {
   "cell_type": "code",
   "execution_count": 31,
   "metadata": {},
   "outputs": [],
   "source": [
    "from azureml.core import Workspace, Experiment, Run\n",
    "ws = Workspace(subscription_id='<Enter>',\n",
    "              resource_group='<>',\n",
    "              workspace_name='SubstrateIntelligenceNLR-WS2')\n",
    "\n",
    "experiment = Experiment(ws, 'MNIST-singlegpu')\n",
    "\n",
    "from azureml.core import ComputeTarget\n",
    "compute_target = ComputeTarget(ws, 'nc24sv3')"
   ]
  },
  {
   "cell_type": "markdown",
   "metadata": {},
   "source": [
    "### Single GPU"
   ]
  },
  {
   "cell_type": "code",
   "execution_count": 48,
   "metadata": {},
   "outputs": [
    {
     "name": "stderr",
     "output_type": "stream",
     "text": [
      "WARNING - framework_version is not specified, defaulting to version 1.1.\n"
     ]
    }
   ],
   "source": [
    "from azureml.train.dnn import PyTorch\n",
    "estimator = PyTorch(source_directory = '.',\n",
    "                    pip_packages = ['tqdm'],\n",
    "                    compute_target = compute_target,\n",
    "                    entry_script = 'DistributedDataParallel_script.py',\n",
    "                    script_params = {\n",
    "                       '--issingle':\"\"\n",
    "                    },\n",
    "                    use_gpu=True,\n",
    "                   )\n",
    "\n",
    "run = experiment.submit(estimator)"
   ]
  },
  {
   "cell_type": "code",
   "execution_count": 49,
   "metadata": {},
   "outputs": [
    {
     "data": {
      "application/vnd.jupyter.widget-view+json": {
       "model_id": "16ea7cd043e749059d35458bc5ab67c4",
       "version_major": 2,
       "version_minor": 0
      },
      "text/plain": [
       "_UserRunWidget(widget_settings={'childWidgetDisplay': 'popup', 'send_telemetry': False, 'log_level': 'INFO', '…"
      ]
     },
     "metadata": {},
     "output_type": "display_data"
    }
   ],
   "source": [
    "from azureml.widgets import RunDetails\n",
    "RunDetails(run).show()"
   ]
  },
  {
   "cell_type": "markdown",
   "metadata": {},
   "source": [
    "### Distributed data parallel AML job - Not working\n",
    "2 nodes 4 GPUS\n",
    "Follow this\n",
    "https://github.com/microsoft/AzureML-BERT/blob/master/pretrain/PyTorch/azureml_adapter.py"
   ]
  },
  {
   "cell_type": "code",
   "execution_count": 52,
   "metadata": {},
   "outputs": [
    {
     "name": "stderr",
     "output_type": "stream",
     "text": [
      "WARNING - framework_version is not specified, defaulting to version 1.1.\n"
     ]
    }
   ],
   "source": [
    "from azureml.train.dnn import PyTorch\n",
    "from azureml.core.runconfig import MpiConfiguration\n",
    "mpi = MpiConfiguration()\n",
    "mpi.process_count_per_node = 4\n",
    "\n",
    "estimator_distrib = PyTorch(source_directory = '.',\n",
    "                    pip_packages = ['tqdm'],\n",
    "                   compute_target = compute_target,\n",
    "                   entry_script = 'DistributedDataParallel_script.py',\n",
    "                   script_params = {},\n",
    "                   use_gpu=True,\n",
    "                   distributed_training = mpi,\n",
    "                    node_count = 2\n",
    "                   )\n",
    "\n",
    "run_distrib = experiment.submit(estimator_distrib)"
   ]
  },
  {
   "cell_type": "code",
   "execution_count": 53,
   "metadata": {},
   "outputs": [
    {
     "data": {
      "application/vnd.jupyter.widget-view+json": {
       "model_id": "64e850121c00451b89770d2e99fec8e1",
       "version_major": 2,
       "version_minor": 0
      },
      "text/plain": [
       "_UserRunWidget(widget_settings={'childWidgetDisplay': 'popup', 'send_telemetry': False, 'log_level': 'INFO', '…"
      ]
     },
     "metadata": {},
     "output_type": "display_data"
    }
   ],
   "source": [
    "RunDetails(run_distrib).show()"
   ]
  },
  {
   "cell_type": "code",
   "execution_count": null,
   "metadata": {},
   "outputs": [],
   "source": []
  }
 ],
 "metadata": {
  "kernelspec": {
   "display_name": "Python 3.6 - AzureML",
   "language": "python",
   "name": "python3-azureml"
  },
  "language_info": {
   "codemirror_mode": {
    "name": "ipython",
    "version": 3
   },
   "file_extension": ".py",
   "mimetype": "text/x-python",
   "name": "python",
   "nbconvert_exporter": "python",
   "pygments_lexer": "ipython3",
   "version": "3.6.8"
  }
 },
 "nbformat": 4,
 "nbformat_minor": 2
}
